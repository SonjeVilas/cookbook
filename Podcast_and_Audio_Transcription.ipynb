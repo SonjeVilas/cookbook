{
  "cells": [
    {
      "cell_type": "markdown",
      "metadata": {
        "id": "Hfb0zeHYnwtC"
      },
      "source": [
        "##### Copyright 2025 Google LLC."
      ]
    },
    {
      "cell_type": "code",
      "execution_count": 29,
      "metadata": {
        "cellView": "form",
        "id": "NeImViGqnv1b"
      },
      "outputs": [],
      "source": [
        "# @title Licensed under the Apache License, Version 2.0 (the \"License\");\n",
        "# you may not use this file except in compliance with the License.\n",
        "# You may obtain a copy of the License at\n",
        "#\n",
        "# https://www.apache.org/licenses/LICENSE-2.0\n",
        "#\n",
        "# Unless required by applicable law or agreed to in writing, software\n",
        "# distributed under the License is distributed on an \"AS IS\" BASIS,\n",
        "# WITHOUT WARRANTIES OR CONDITIONS OF ANY KIND, either express or implied.\n",
        "# See the License for the specific language governing permissions and\n",
        "# limitations under the License."
      ]
    },
    {
      "cell_type": "markdown",
      "metadata": {
        "id": "bxGr_x3MRA0z"
      },
      "source": [
        "<a target=\"_blank\" href=\"https://colab.research.google.com/github/google-gemini/cookbook/blob/main/examples/prompting/Zero_shot_prompting.ipynb\"><img src=\"https://colab.research.google.com/assets/colab-badge.svg\" height=30/>"
      ]
    },
    {
      "cell_type": "markdown",
      "metadata": {
        "id": "ysy--KfNRrCq"
      },
      "source": [
        "# Podcast and Audio Transcription with Gemini AI\n",
        "\n",
        "## Advanced Audio-to-Text Conversion  \n",
        "Gemini 2.0 transforms audio files (podcasts, interviews, call recordings) into **structured transcripts** with:  \n",
        "- **Precision timestamps** ([00:00] format)  \n",
        "- **Speaker identification** (labeled or auto-assigned as Speaker A/B)  \n",
        "- **Audio event detection**:  \n",
        "  - Background music (with song recognition, e.g., `[02:15] [Firework by Katy Perry]`)  \n",
        "  - Sound effects (e.g., `[01:30] [Bell ringing]`)  \n",
        "  - Named jingles (e.g., `[00:45] [The Sofa Shop jingle]`)  \n",
        "\n",
        "## Implementation Notes  \n",
        "1. **File Preparation**:  \n",
        "   - Supports MP3/WAV formats  \n",
        "   - Update `file_path` to your audio file location  \n",
        "2. **Output Format**:  \n",
        "   - Clean text without markdown  \n",
        "   - Terminates with `[END]` marker  \n",
        "3. **Accuracy**:  \n",
        "   - Context-aware spelling (corrects names/titles)  \n",
        "   - English-alphabet focused (non-English chars only when explicit)  \n",
        "\n",
        "```python\n",
        "# Example output snippet:\n",
        "[00:00] Tom: Welcome to the podcast.  \n",
        "[00:03] Speaker A: Thanks for having me!  \n",
        "[00:06] [Coffee shop ambiance]  \n",
        "[01:30] [END]\n"
      ]
    },
    {
      "cell_type": "code",
      "execution_count": 30,
      "metadata": {
        "id": "Ne-3gnXqR0hI"
      },
      "outputs": [],
      "source": [
        "%pip install -U -q \"google-genai>=1.0.0\""
      ]
    },
    {
      "cell_type": "code",
      "execution_count": 31,
      "metadata": {
        "id": "EconMHePQHGw"
      },
      "outputs": [],
      "source": [
        "from google import genai\n",
        "\n",
        "from IPython.display import Markdown"
      ]
    },
    {
      "cell_type": "markdown",
      "metadata": {
        "id": "eomJzCa6lb90"
      },
      "source": [
        "## Configure your API key\n",
        "\n",
        "To run the following cell, your API key must be stored it in a Colab Secret named `GOOGLE_API_KEY`. If you don't already have an API key, or you're not sure how to create a Colab Secret, see [Authentication](https://github.com/google-gemini/cookbook/blob/main/quickstarts/Authentication.ipynb) for an example."
      ]
    },
    {
      "cell_type": "code",
      "execution_count": 32,
      "metadata": {
        "id": "v-JZzORUpVR2"
      },
      "outputs": [],
      "source": [
        "from google.colab import userdata\n",
        "GOOGLE_API_KEY = userdata.get('GOOGLE_API_KEY')\n",
        "client = genai.Client(api_key=GOOGLE_API_KEY)"
      ]
    },
    {
      "cell_type": "code",
      "execution_count": 33,
      "metadata": {
        "id": "Ym4w9z3iWHlT"
      },
      "outputs": [],
      "source": [
        "MODEL_ID=\"gemini-2.0-flash\" # @param [\"gemini-2.0-flash-lite\",\"gemini-2.0-flash\",\"gemini-2.0-pro-exp-02-05\"] {\"allow-input\":true, isTemplate: true}"
      ]
    },
    {
      "cell_type": "code",
      "execution_count": 34,
      "metadata": {
        "id": "J580DkQPVYYp",
        "outputId": "11680aed-0323-4894-ba0b-ab0b575ecbf4",
        "colab": {
          "base_uri": "https://localhost:8080/"
        },
        "collapsed": true
      },
      "outputs": [
        {
          "output_type": "stream",
          "name": "stdout",
          "text": [
            "Requirement already satisfied: google-genai in /usr/local/lib/python3.11/dist-packages (1.9.0)\n",
            "Requirement already satisfied: jinja2 in /usr/local/lib/python3.11/dist-packages (3.1.6)\n",
            "Requirement already satisfied: anyio<5.0.0,>=4.8.0 in /usr/local/lib/python3.11/dist-packages (from google-genai) (4.9.0)\n",
            "Requirement already satisfied: google-auth<3.0.0,>=2.14.1 in /usr/local/lib/python3.11/dist-packages (from google-genai) (2.38.0)\n",
            "Requirement already satisfied: httpx<1.0.0,>=0.28.1 in /usr/local/lib/python3.11/dist-packages (from google-genai) (0.28.1)\n",
            "Requirement already satisfied: pydantic<3.0.0,>=2.0.0 in /usr/local/lib/python3.11/dist-packages (from google-genai) (2.11.1)\n",
            "Requirement already satisfied: requests<3.0.0,>=2.28.1 in /usr/local/lib/python3.11/dist-packages (from google-genai) (2.32.3)\n",
            "Requirement already satisfied: websockets<15.1.0,>=13.0.0 in /usr/local/lib/python3.11/dist-packages (from google-genai) (15.0.1)\n",
            "Requirement already satisfied: typing-extensions<5.0.0,>=4.11.0 in /usr/local/lib/python3.11/dist-packages (from google-genai) (4.13.0)\n",
            "Requirement already satisfied: MarkupSafe>=2.0 in /usr/local/lib/python3.11/dist-packages (from jinja2) (3.0.2)\n",
            "Requirement already satisfied: idna>=2.8 in /usr/local/lib/python3.11/dist-packages (from anyio<5.0.0,>=4.8.0->google-genai) (3.10)\n",
            "Requirement already satisfied: sniffio>=1.1 in /usr/local/lib/python3.11/dist-packages (from anyio<5.0.0,>=4.8.0->google-genai) (1.3.1)\n",
            "Requirement already satisfied: cachetools<6.0,>=2.0.0 in /usr/local/lib/python3.11/dist-packages (from google-auth<3.0.0,>=2.14.1->google-genai) (5.5.2)\n",
            "Requirement already satisfied: pyasn1-modules>=0.2.1 in /usr/local/lib/python3.11/dist-packages (from google-auth<3.0.0,>=2.14.1->google-genai) (0.4.2)\n",
            "Requirement already satisfied: rsa<5,>=3.1.4 in /usr/local/lib/python3.11/dist-packages (from google-auth<3.0.0,>=2.14.1->google-genai) (4.9)\n",
            "Requirement already satisfied: certifi in /usr/local/lib/python3.11/dist-packages (from httpx<1.0.0,>=0.28.1->google-genai) (2025.1.31)\n",
            "Requirement already satisfied: httpcore==1.* in /usr/local/lib/python3.11/dist-packages (from httpx<1.0.0,>=0.28.1->google-genai) (1.0.7)\n",
            "Requirement already satisfied: h11<0.15,>=0.13 in /usr/local/lib/python3.11/dist-packages (from httpcore==1.*->httpx<1.0.0,>=0.28.1->google-genai) (0.14.0)\n",
            "Requirement already satisfied: annotated-types>=0.6.0 in /usr/local/lib/python3.11/dist-packages (from pydantic<3.0.0,>=2.0.0->google-genai) (0.7.0)\n",
            "Requirement already satisfied: pydantic-core==2.33.0 in /usr/local/lib/python3.11/dist-packages (from pydantic<3.0.0,>=2.0.0->google-genai) (2.33.0)\n",
            "Requirement already satisfied: typing-inspection>=0.4.0 in /usr/local/lib/python3.11/dist-packages (from pydantic<3.0.0,>=2.0.0->google-genai) (0.4.0)\n",
            "Requirement already satisfied: charset-normalizer<4,>=2 in /usr/local/lib/python3.11/dist-packages (from requests<3.0.0,>=2.28.1->google-genai) (3.4.1)\n",
            "Requirement already satisfied: urllib3<3,>=1.21.1 in /usr/local/lib/python3.11/dist-packages (from requests<3.0.0,>=2.28.1->google-genai) (2.3.0)\n",
            "Requirement already satisfied: pyasn1<0.7.0,>=0.6.1 in /usr/local/lib/python3.11/dist-packages (from pyasn1-modules>=0.2.1->google-auth<3.0.0,>=2.14.1->google-genai) (0.6.1)\n"
          ]
        }
      ],
      "source": [
        "%pip install google-genai jinja2"
      ]
    },
    {
      "cell_type": "markdown",
      "source": [
        "Replace `/content/assets_porsche.mp3` with your audio file path before running.\n"
      ],
      "metadata": {
        "id": "TKtklPszFaml"
      }
    },
    {
      "cell_type": "code",
      "source": [
        "from jinja2 import Template\n",
        "\n",
        "\n",
        "# path to the file to upload\n",
        "file_path = \"/content/assets_porsche.mp3\" # Repalce with your own file path\n",
        "\n",
        "# Upload the file to the File API\n",
        "file = client.files.upload(file=file_path)\n",
        "\n",
        "# Generate a structured response using the Gemini API\n",
        "prompt_template = Template(\"\"\"Generate a transcript of the episode. Include timestamps and identify speakers.\n",
        "\n",
        "Speakers are:\n",
        "{% for speaker in speakers %}- {{ speaker }}{% if not loop.last %}\\n{% endif %}{% endfor %}\n",
        "\n",
        "eg:\n",
        "[00:00] Brady: Hello there.\n",
        "[00:02] Tim: Hi Brady.\n",
        "\n",
        "It is important to include the correct speaker names. Use the names you identified earlier. If you really don't know the speaker's name, identify them with a letter of the alphabet, eg there may be an unknown speaker 'A' and another unknown speaker 'B'.\n",
        "\n",
        "If there is music or a short jingle playing, signify like so:\n",
        "[01:02] [MUSIC] or [01:02] [JINGLE]\n",
        "\n",
        "If you can identify the name of the music or jingle playing then use that instead, eg:\n",
        "[01:02] [Firework by Katy Perry] or [01:02] [The Sofa Shop jingle]\n",
        "\n",
        "If there is some other sound playing try to identify the sound, eg:\n",
        "[01:02] [Bell ringing]\n",
        "\n",
        "Each individual caption should be quite short, a few short sentences at most.\n",
        "\n",
        "Signify the end of the episode with [END].\n",
        "\n",
        "Don't use any markdown formatting, like bolding or italics.\n",
        "\n",
        "Only use characters from the English alphabet, unless you genuinely believe foreign characters are correct.\n",
        "\n",
        "It is important that you use the correct words and spell everything correctly. Use the context of the podcast to help.\n",
        "If the hosts discuss something like a movie, book or celebrity, make sure the movie, book, or celebrity name is spelled correctly.\"\"\")\n",
        "\n",
        "# Define the speakers and render the prompt\n",
        "speakers = [\"Tom\"]\n",
        "prompt = prompt_template.render(speakers=speakers)\n",
        "\n",
        "response = client.models.generate_content(\n",
        "    model=\"gemini-2.0-flash\",\n",
        "    contents=[prompt, file],\n",
        ")\n",
        "\n",
        "print(response.text)"
      ],
      "metadata": {
        "colab": {
          "base_uri": "https://localhost:8080/"
        },
        "id": "QiNZgI_twaf5",
        "outputId": "ecdffac6-fb4d-455e-f7f0-4be4043e07e9"
      },
      "execution_count": 35,
      "outputs": [
        {
          "output_type": "stream",
          "name": "stdout",
          "text": [
            "[00:00] Tom: If the Porsche Macan has proven anything,\n",
            "[00:04] Tom: it's that the days of sacrificing performance for practicality are gone.\n",
            "[00:08] Tom: Long gone.\n",
            "[00:10] Tom: Engineered to deliver a driving experience like no other, the Macan has demonstrated excellence in style and performance to become the leading sports car in its class.\n",
            "[00:18] Tom: So don't let those five doors fool you.\n",
            "[00:21] Tom: Once you're in the driver's seat, one thing will become immediately clear.\n",
            "[00:28] [Engine Revving]\n",
            "[00:30] Tom: This is a Porsche.\n",
            "[00:33] Tom: The Macan, now leasing from 3.99%.\n",
            "[00:36] Tom: Conditions apply.\n",
            "[END]\n"
          ]
        }
      ]
    }
  ],
  "metadata": {
    "colab": {
      "provenance": []
    },
    "kernelspec": {
      "display_name": "Python 3",
      "name": "python3"
    }
  },
  "nbformat": 4,
  "nbformat_minor": 0
}